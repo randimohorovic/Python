{
 "cells": [
  {
   "cell_type": "code",
   "execution_count": 1,
   "metadata": {},
   "outputs": [],
   "source": [
    "polje=[1,2,3,\"hello wrld\"]"
   ]
  },
  {
   "cell_type": "code",
   "execution_count": 2,
   "metadata": {},
   "outputs": [
    {
     "name": "stdout",
     "output_type": "stream",
     "text": [
      "1\n",
      "2\n",
      "3\n",
      "hello wrld\n"
     ]
    }
   ],
   "source": [
    "for x in polje:\n",
    "    print(x)"
   ]
  },
  {
   "cell_type": "code",
   "execution_count": 4,
   "metadata": {},
   "outputs": [
    {
     "name": "stdout",
     "output_type": "stream",
     "text": [
      "78005\n"
     ]
    }
   ],
   "source": [
    "polje2=[25,78,3,77899]\n",
    "suma = 0\n",
    "for i in polje2:  # ZA SVAKI EL U POLJU RADI...\n",
    "    suma +=i\n",
    "print(suma)"
   ]
  },
  {
   "cell_type": "markdown",
   "metadata": {},
   "source": [
    "# RANGE"
   ]
  },
  {
   "cell_type": "code",
   "execution_count": 5,
   "metadata": {},
   "outputs": [
    {
     "name": "stdout",
     "output_type": "stream",
     "text": [
      "[1, 2, 3, 4]\n"
     ]
    }
   ],
   "source": [
    "c= list(range(1,5))\n",
    "print(c)            # kreiramo range dodamo list konvertamo je u listu, spremimo u neku var\n"
   ]
  },
  {
   "cell_type": "code",
   "execution_count": 7,
   "metadata": {},
   "outputs": [
    {
     "name": "stdout",
     "output_type": "stream",
     "text": [
      "1\n",
      "2\n",
      "3\n",
      "4\n",
      "10\n"
     ]
    }
   ],
   "source": [
    "sum=0\n",
    "for i in range(1,5):\n",
    "    print(i)\n",
    "    sum +=i\n",
    "print(sum)"
   ]
  },
  {
   "cell_type": "code",
   "execution_count": 8,
   "metadata": {},
   "outputs": [
    {
     "name": "stdout",
     "output_type": "stream",
     "text": [
      "9\n"
     ]
    }
   ],
   "source": [
    "\n",
    "\n",
    "\n",
    "sum2= 0\n",
    "for i in range(1,8):        #ako mi je broj djeljiv s 3 uzmi zbroj tih br. i ispisi ga\n",
    "    if i%3==0:\n",
    "        sum2 += i\n",
    "print(sum2)"
   ]
  },
  {
   "cell_type": "code",
   "execution_count": 1,
   "metadata": {},
   "outputs": [
    {
     "name": "stdout",
     "output_type": "stream",
     "text": [
      "2318\n"
     ]
    }
   ],
   "source": [
    "sum3= 0\n",
    "for i in range(1,100):        #ako mi je broj djeljiv s 3 ili 5 uzmi zbroj tih br. i ispisi ga\n",
    "    if i%3==0 or i%5==0:\n",
    "        sum3 += i\n",
    "print(sum3)"
   ]
  },
  {
   "cell_type": "markdown",
   "metadata": {},
   "source": [
    "# While loop"
   ]
  },
  {
   "cell_type": "code",
   "execution_count": 12,
   "metadata": {},
   "outputs": [
    {
     "name": "stdout",
     "output_type": "stream",
     "text": [
      "10\n"
     ]
    }
   ],
   "source": [
    "sum4=0\n",
    "i=1\n",
    "while i< 5:\n",
    "    sum4 +=i\n",
    "    i +=1\n",
    "print(sum4)\n"
   ]
  },
  {
   "cell_type": "markdown",
   "metadata": {},
   "source": [
    "# suma bojeva > 0"
   ]
  },
  {
   "cell_type": "code",
   "execution_count": 15,
   "metadata": {},
   "outputs": [
    {
     "name": "stdout",
     "output_type": "stream",
     "text": [
      "15\n"
     ]
    }
   ],
   "source": [
    "lista=[5,4,3,2,1,-1,-2,-3,-4]\n",
    "\n",
    "sum5=0                                      \n",
    "i=0\n",
    "while i < len(lista) and lista[i] > 0:\n",
    "    sum5 += lista[i]\n",
    "    i +=1\n",
    "print(sum5)\n"
   ]
  },
  {
   "cell_type": "code",
   "execution_count": 17,
   "metadata": {},
   "outputs": [],
   "source": [
    "x = input(\"upisi broj\")   #kao kod js-a je input ugl na istu foru samo nije prompt(\"tekst\")\n"
   ]
  },
  {
   "cell_type": "code",
   "execution_count": 18,
   "metadata": {},
   "outputs": [
    {
     "name": "stdout",
     "output_type": "stream",
     "text": [
      "2.1\n"
     ]
    }
   ],
   "source": [
    "print(x)"
   ]
  },
  {
   "cell_type": "markdown",
   "metadata": {},
   "source": [
    "def add(x,y):\n",
    "    return x+y\n",
    "def subtract(x,y):\n",
    "    return x-y\n",
    "def multiply(x,y):\n",
    "    return x*y\n",
    "def divide(x,y):\n",
    "    return x/y\n",
    "\n",
    "print(\"Welcome to Ramzy Calculator\\nPlease choose one number from the following menu.\")\n",
    "print(\"1. Add\\n2. Subtract\\n3. Multiply\\n4. Divide\")\n",
    "\n",
    "while True: \n",
    "    user_choice=input(\"Enter one number from the menu 1/2/3/4\")\n",
    "    \n",
    "    if user_choice in ('1','2','3','4'):\n",
    "        \n",
    "        num1= float(input(\"Enter 1.number\"))\n",
    "        num2= float(input(\"Enter 2.number\"))\n",
    "        \n",
    "        if user_choice == '1':\n",
    "            print(num1,\" + \", num2,\" = \",add(num1,num2))\n",
    "            \n",
    "        elif user_choice == '2':\n",
    "            print(num1,\" - \", num2,\" = \",subtract(num1,num2))\n",
    "        \n",
    "        elif user_choice == '3':\n",
    "            print(num1,\" * \", num2,\" = \",multiply(num1,num2))\n",
    "            \n",
    "        elif user_choice == '4':\n",
    "            print(num1,\" / \", num2,\" = \",divide(num1,num2))\n",
    "    \n",
    "        var=input(\"Do you want to make another calculation -> Yes/No ?\")\n",
    "        if var == \"No\":\n",
    "            break\n",
    "        \n",
    "    else :\n",
    "        print(\"wrong input\")\n",
    "    \n",
    "\n"
   ]
  },
  {
   "cell_type": "code",
   "execution_count": 25,
   "metadata": {
    "scrolled": true
   },
   "outputs": [
    {
     "name": "stdout",
     "output_type": "stream",
     "text": [
      "Welcome to Ramzy Calculator\n",
      "Please choose one number from the following menu.\n",
      "1. Add\n",
      "2. Subtract\n",
      "3. Multiply\n",
      "4. Divide\n",
      "Enter one number from the menu 1/2/3/44\n",
      "Enter 1.number574\n",
      "Enter 2.number56\n",
      "574.0  /  56.0  =  10.25\n",
      "Do you want to make another calculation -> Yes/No ?No\n"
     ]
    }
   ],
   "source": [
    "def add(x,y): \n",
    "    return x+y\n",
    "def subtract(x,y):\n",
    "    return x-y\n",
    "def multiply(x,y): \n",
    "    return x*y \n",
    "def divide(x,y):\n",
    "    return x/y\n",
    "\n",
    "print(\"Welcome to Ramzy Calculator\\nPlease choose one number from the following menu.\")\n",
    "print(\"1. Add\\n2. Subtract\\n3. Multiply\\n4. Divide\")\n",
    "\n",
    "while True:\n",
    "    user_choice=input(\"Enter one number from the menu 1/2/3/4\")\n",
    "    \n",
    "    if user_choice in ('1','2','3','4'):\n",
    "\n",
    "        num1= float(input(\"Enter 1.number\"))\n",
    "        num2= float(input(\"Enter 2.number\"))\n",
    "\n",
    "        if user_choice == '1':\n",
    "            print(num1,\" + \", num2,\" = \",add(num1,num2))\n",
    "\n",
    "        elif user_choice == '2':\n",
    "            print(num1,\" - \", num2,\" = \",subtract(num1,num2))\n",
    "\n",
    "        elif user_choice == '3':\n",
    "            print(num1,\" * \", num2,\" = \",multiply(num1,num2))\n",
    "\n",
    "        elif user_choice == '4':\n",
    "            print(num1,\" / \", num2,\" = \",divide(num1,num2))\n",
    "\n",
    "        var=input(\"Do you want to make another calculation -> Yes/No ?\")\n",
    "        if var == \"No\":\n",
    "            break\n",
    "\n",
    "    else :\n",
    "        print(\"wrong input\")"
   ]
  },
  {
   "cell_type": "code",
   "execution_count": 3,
   "metadata": {},
   "outputs": [
    {
     "name": "stdout",
     "output_type": "stream",
     "text": [
      "-4\n"
     ]
    }
   ],
   "source": [
    "polje=[1,2,3,4,5,-1,-2,-3,-4]\n",
    "suma=0\n",
    "i= len(polje)-1\n",
    "while polje[i] < 0:    # od zanjeg el krece ,samo ako znamo da su nam neg. tamo inace sa else if\n",
    "    suma +=polje[i]\n",
    "    i -=i\n",
    "print(suma)"
   ]
  },
  {
   "cell_type": "code",
   "execution_count": null,
   "metadata": {},
   "outputs": [],
   "source": []
  }
 ],
 "metadata": {
  "kernelspec": {
   "display_name": "Python 3",
   "language": "python",
   "name": "python3"
  },
  "language_info": {
   "codemirror_mode": {
    "name": "ipython",
    "version": 3
   },
   "file_extension": ".py",
   "mimetype": "text/x-python",
   "name": "python",
   "nbconvert_exporter": "python",
   "pygments_lexer": "ipython3",
   "version": "3.8.8"
  },
  "vscode": {
   "interpreter": {
    "hash": "369f2c481f4da34e4445cda3fffd2e751bd1c4d706f27375911949ba6bb62e1c"
   }
  }
 },
 "nbformat": 4,
 "nbformat_minor": 2
}
