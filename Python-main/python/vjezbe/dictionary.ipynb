{
 "cells": [
  {
   "cell_type": "code",
   "execution_count": 1,
   "id": "12810251",
   "metadata": {},
   "outputs": [],
   "source": [
    "d={} #dictionary prazan ili d= dict()"
   ]
  },
  {
   "cell_type": "code",
   "execution_count": 2,
   "id": "dbb87037",
   "metadata": {},
   "outputs": [],
   "source": [
    "d[\"kljuc1\"]= \"vrijednost\"  #dodavanje kljuca i vrijednosti"
   ]
  },
  {
   "cell_type": "code",
   "execution_count": 3,
   "id": "bb307c9b",
   "metadata": {},
   "outputs": [
    {
     "name": "stdout",
     "output_type": "stream",
     "text": [
      "{'kljuc1': 'vrijednost'}\n"
     ]
    }
   ],
   "source": [
    "print(d)"
   ]
  },
  {
   "cell_type": "code",
   "execution_count": 4,
   "id": "fbb8b498",
   "metadata": {},
   "outputs": [
    {
     "name": "stdout",
     "output_type": "stream",
     "text": [
      "vrijednost\n"
     ]
    }
   ],
   "source": [
    "print(d[\"kljuc1\"]) # print vrijednost kljuca"
   ]
  },
  {
   "cell_type": "code",
   "execution_count": 5,
   "id": "9d014ddd",
   "metadata": {},
   "outputs": [],
   "source": [
    "d[\"kljuc1\"]= 5 # mjenjanje vrijednosti kjuca "
   ]
  },
  {
   "cell_type": "code",
   "execution_count": 6,
   "id": "af24ba3d",
   "metadata": {},
   "outputs": [],
   "source": [
    "d[\"kljuc2\"]= 8\n",
    "d[\"kljuc3\"]= 7"
   ]
  },
  {
   "cell_type": "code",
   "execution_count": 13,
   "id": "1e773478",
   "metadata": {},
   "outputs": [
    {
     "name": "stdout",
     "output_type": "stream",
     "text": [
      "kljuc=  kljuc1\n",
      "vrijednost=  5\n",
      "kljuc=  kljuc2\n",
      "vrijednost=  8\n",
      "kljuc=  kljuc3\n",
      "vrijednost=  7\n"
     ]
    }
   ],
   "source": [
    "for key, value in d.items():\n",
    "    print(\"kljuc= \", key)\n",
    "    \n",
    "    print(\"vrijednost= \", value)\n"
   ]
  },
  {
   "cell_type": "code",
   "execution_count": 14,
   "id": "8e73f968",
   "metadata": {},
   "outputs": [
    {
     "name": "stdout",
     "output_type": "stream",
     "text": [
      "{'kljuc1': 5, 'kljuc2': 8, 'kljuc3': 7}\n"
     ]
    }
   ],
   "source": [
    "print(d)"
   ]
  },
  {
   "cell_type": "code",
   "execution_count": 15,
   "id": "0ca9efb5",
   "metadata": {},
   "outputs": [
    {
     "name": "stdout",
     "output_type": "stream",
     "text": [
      "{'key1': 4, 'key3': 6}\n"
     ]
    }
   ],
   "source": [
    "dic2={'key1':4,'key3':6}\n",
    "print(dic2)"
   ]
  },
  {
   "cell_type": "code",
   "execution_count": null,
   "id": "046b4742",
   "metadata": {},
   "outputs": [],
   "source": []
  }
 ],
 "metadata": {
  "kernelspec": {
   "display_name": "Python 3",
   "language": "python",
   "name": "python3"
  },
  "language_info": {
   "codemirror_mode": {
    "name": "ipython",
    "version": 3
   },
   "file_extension": ".py",
   "mimetype": "text/x-python",
   "name": "python",
   "nbconvert_exporter": "python",
   "pygments_lexer": "ipython3",
   "version": "3.8.8"
  }
 },
 "nbformat": 4,
 "nbformat_minor": 5
}
