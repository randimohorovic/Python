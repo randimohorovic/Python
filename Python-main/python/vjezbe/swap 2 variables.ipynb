{
 "cells": [
  {
   "cell_type": "code",
   "execution_count": 1,
   "id": "f7967fac",
   "metadata": {},
   "outputs": [],
   "source": [
    "var1=\"prvi string\"\n",
    "var2 =\"drugi string\""
   ]
  },
  {
   "cell_type": "code",
   "execution_count": 8,
   "id": "978e7a59",
   "metadata": {},
   "outputs": [
    {
     "name": "stdout",
     "output_type": "stream",
     "text": [
      "drugi string prvi string\n"
     ]
    }
   ],
   "source": [
    "var3 = var1  \n",
    "var1 = var2\n",
    "var2= var3      \n",
    "print(var1,var2)\n",
    "#zamjena varijabli , var1=var2 var1 pokazuje na vrijednost var2\n",
    "#kada brisem,mjenjam var2 vrijenost var1 ostaje ista "
   ]
  },
  {
   "cell_type": "code",
   "execution_count": null,
   "id": "77144c0a",
   "metadata": {},
   "outputs": [],
   "source": []
  }
 ],
 "metadata": {
  "kernelspec": {
   "display_name": "Python 3 (ipykernel)",
   "language": "python",
   "name": "python3"
  },
  "language_info": {
   "codemirror_mode": {
    "name": "ipython",
    "version": 3
   },
   "file_extension": ".py",
   "mimetype": "text/x-python",
   "name": "python",
   "nbconvert_exporter": "python",
   "pygments_lexer": "ipython3",
   "version": "3.9.13"
  }
 },
 "nbformat": 4,
 "nbformat_minor": 5
}
