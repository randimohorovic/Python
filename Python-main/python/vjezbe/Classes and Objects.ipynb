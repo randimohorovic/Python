{
 "cells": [
  {
   "cell_type": "code",
   "execution_count": 13,
   "id": "38f46df2",
   "metadata": {},
   "outputs": [],
   "source": [
    "class student:\n",
    "    def __init__(x,name,color,weight): #dodajes x pa ostale argumente ime mozes imat isto kao atribute koje zelis imat\n",
    "        x.name=name\n",
    "        x.color=color\n",
    "        x.weight= weight\n",
    "    def introduce_yourself(x):\n",
    "        print(\"My name is \"+x.name )"
   ]
  },
  {
   "cell_type": "code",
   "execution_count": null,
   "id": "dcc82a66",
   "metadata": {},
   "outputs": [],
   "source": []
  },
  {
   "cell_type": "code",
   "execution_count": 2,
   "id": "9264554e",
   "metadata": {},
   "outputs": [],
   "source": [
    "# s1=student() # kreiranje objekta\n",
    "# s1.name='Randi'  # s1 se ponasa kao x argument koj se prosljeduje funkciji\n",
    "# s1.color='blue'\n",
    "# s1.weight=65\n",
    "\n",
    "# s2=student()\n",
    "# s2.name='Tea'  # s1 se ponasa kao x argument koj se prosljeduje funkciji\n",
    "# s2.color='red' #ali nije efikasno radit tako, bolje kreirat klasu sa svim attributima\n",
    "# s2.weight=67\n",
    "\n",
    "s1=student('randi', 'blue',65) # bolje,brže, lakše\n",
    "\n"
   ]
  },
  {
   "cell_type": "code",
   "execution_count": 4,
   "id": "e0f213cc",
   "metadata": {},
   "outputs": [
    {
     "name": "stdout",
     "output_type": "stream",
     "text": [
      "My name is randi\n"
     ]
    }
   ],
   "source": [
    "s1.introduce_yourself()\n",
    "# s2.introduce_yourself()"
   ]
  },
  {
   "cell_type": "code",
   "execution_count": 5,
   "id": "89ccfbf6",
   "metadata": {},
   "outputs": [],
   "source": [
    "#primjer2 bez funkcije\n",
    "class studenti:\n",
    "    def __init__(x,name,color,weight): #dodajes x pa ostale argumente ime mozes imat isto kao atribute koje zelis imat\n",
    "        x.name=name\n",
    "        x.color=color\n",
    "        x.weight= weight\n",
    "    "
   ]
  },
  {
   "cell_type": "code",
   "execution_count": 22,
   "id": "f0a33faf",
   "metadata": {},
   "outputs": [],
   "source": [
    "si1=studenti('randi','red',67)\n",
    "si2=studenti('tea','red',67)\n"
   ]
  },
  {
   "cell_type": "code",
   "execution_count": 9,
   "id": "d8e9b59b",
   "metadata": {
    "scrolled": true
   },
   "outputs": [
    {
     "name": "stdout",
     "output_type": "stream",
     "text": [
      "randi\n"
     ]
    }
   ],
   "source": [
    "print(si1.name)"
   ]
  },
  {
   "cell_type": "markdown",
   "id": "6636b15b",
   "metadata": {},
   "source": [
    "Kreiranje klase i 2 objekta person p1 i p2 \n"
   ]
  },
  {
   "cell_type": "code",
   "execution_count": 14,
   "id": "c048ad0a",
   "metadata": {},
   "outputs": [],
   "source": [
    "class person:\n",
    "    def __init__(x,name,personality, sitting, father): #dodajes x pa ostale argumente ime mozes imat isto kao atribute koje zelis imat\n",
    "        x.name=name\n",
    "        x.personality=personality\n",
    "        x.sitting= sitting     #x.is_father=father\n",
    "        x.father= father\n",
    "        def sit_down(x):\n",
    "            x.sitting= True\n",
    "        def not_sitting(x):\n",
    "            x.sitting = False"
   ]
  },
  {
   "cell_type": "code",
   "execution_count": 18,
   "id": "ec4fc2c4",
   "metadata": {},
   "outputs": [],
   "source": [
    "p1=person('Dean','nice',False)\n",
    "p2=person('Dalibor','very nice',True)"
   ]
  },
  {
   "cell_type": "code",
   "execution_count": 19,
   "id": "7ff298f9",
   "metadata": {},
   "outputs": [],
   "source": [
    "p1.father =s1 # dodavanje vrijednosti atributu father objektu p1."
   ]
  },
  {
   "cell_type": "code",
   "execution_count": 23,
   "id": "6e5cf8f8",
   "metadata": {},
   "outputs": [],
   "source": [
    "p2.father =si2"
   ]
  },
  {
   "cell_type": "code",
   "execution_count": 24,
   "id": "401716db",
   "metadata": {},
   "outputs": [
    {
     "name": "stdout",
     "output_type": "stream",
     "text": [
      "My name is randi\n"
     ]
    }
   ],
   "source": [
    "p1.father.introduce_yourself() # ko da si napiso s1.introduce...\n",
    "                               # jer p1.father =s1"
   ]
  },
  {
   "cell_type": "code",
   "execution_count": null,
   "id": "a3cbd1b1",
   "metadata": {},
   "outputs": [],
   "source": []
  }
 ],
 "metadata": {
  "kernelspec": {
   "display_name": "Python 3",
   "language": "python",
   "name": "python3"
  },
  "language_info": {
   "codemirror_mode": {
    "name": "ipython",
    "version": 3
   },
   "file_extension": ".py",
   "mimetype": "text/x-python",
   "name": "python",
   "nbconvert_exporter": "python",
   "pygments_lexer": "ipython3",
   "version": "3.8.8"
  }
 },
 "nbformat": 4,
 "nbformat_minor": 5
}
