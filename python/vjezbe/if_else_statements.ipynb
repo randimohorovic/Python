{
 "cells": [
  {
   "cell_type": "markdown",
   "metadata": {},
   "source": [
    "# if else statements in python"
   ]
  },
  {
   "cell_type": "code",
   "execution_count": 33,
   "metadata": {},
   "outputs": [
    {
     "name": "stdout",
     "output_type": "stream",
     "text": [
      "x nije veci od y\n"
     ]
    }
   ],
   "source": [
    "x= 5\n",
    "y = 120\n",
    "if x > y:\n",
    "    print(\"x je veci od y\") \n",
    "print(\"x nije veci od y\")"
   ]
  },
  {
   "cell_type": "code",
   "execution_count": 36,
   "metadata": {},
   "outputs": [
    {
     "name": "stdout",
     "output_type": "stream",
     "text": [
      "a je veci od b\n",
      "a je sigurno veci od b\n",
      "outside the IF block , printa se  bez obzira na if else..\n"
     ]
    }
   ],
   "source": [
    "a=5\n",
    "b = 4\n",
    "if a > b:\n",
    "    print(\"a je veci od b\")\n",
    "    print(\"a je sigurno veci od b\")\n",
    "else:\n",
    "    print(\"a nije veci od b\")\n",
    "print(\"outside the IF block , printa se  bez obzira na if else..\")  #paziti na razmak (tab) kad radis print\n"
   ]
  },
  {
   "cell_type": "code",
   "execution_count": 37,
   "metadata": {},
   "outputs": [
    {
     "name": "stdout",
     "output_type": "stream",
     "text": [
      "a je veci od b\n",
      "a je sigurno veci od b\n",
      "outside the IF block , printa se  bez obzira na if else..\n"
     ]
    }
   ],
   "source": [
    "a=5\n",
    "b = 4\n",
    "if a > b:\n",
    "    print(\"a je veci od b\")\n",
    "    print(\"a je sigurno veci od b\")\n",
    "elif a==b:                          #else if aka. elif\n",
    "    print(\"a jedanko b\")\n",
    "else:\n",
    "    print(\"a nije veci od b\")\n",
    "print(\"outside the IF block , printa se  bez obzira na if else..\")  #paziti na razmak (tab) kad radis print\n"
   ]
  },
  {
   "cell_type": "code",
   "execution_count": 42,
   "metadata": {},
   "outputs": [
    {
     "name": "stdout",
     "output_type": "stream",
     "text": [
      "Just the spot\n",
      "Your bmi:   20.061728395061728\n"
     ]
    }
   ],
   "source": [
    "#bmi calculator\n",
    "name=\"randi\"\n",
    "height_in_m=1.8\n",
    "weight_kg=65\n",
    "\n",
    "bmi = weight_kg / (height_in_m ** 2) \n",
    "\n",
    "if bmi > 25:\n",
    "    print(\"You are overweight\")\n",
    "elif bmi < 18.5:\n",
    "    print(\"You are underweight\")\n",
    "else:\n",
    "    print(\"Just the spot\")\n",
    "print(\"Your bmi:  \",bmi)"
   ]
  }
 ],
 "metadata": {
  "kernelspec": {
   "display_name": "Python 3.10.1 64-bit",
   "language": "python",
   "name": "python3"
  },
  "language_info": {
   "codemirror_mode": {
    "name": "ipython",
    "version": 3
   },
   "file_extension": ".py",
   "mimetype": "text/x-python",
   "name": "python",
   "nbconvert_exporter": "python",
   "pygments_lexer": "ipython3",
   "version": "3.10.1"
  },
  "orig_nbformat": 4,
  "vscode": {
   "interpreter": {
    "hash": "369f2c481f4da34e4445cda3fffd2e751bd1c4d706f27375911949ba6bb62e1c"
   }
  }
 },
 "nbformat": 4,
 "nbformat_minor": 2
}
