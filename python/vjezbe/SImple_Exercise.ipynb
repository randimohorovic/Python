{
 "cells": [
  {
   "cell_type": "code",
   "execution_count": 2,
   "id": "e964334f",
   "metadata": {},
   "outputs": [],
   "source": [
    "\n",
    "# The parameter weekday is True if it is a weekday, and the parameter vacation is True if we are on vacation. We sleep in if it is not a weekday or we're on vacation. Return True if we sleep in.\n",
    "\n",
    "\n",
    "# sleep_in(False, False) → True\n",
    "# sleep_in(True, False) → False\n",
    "# sleep_in(False, True) → True\n",
    "\n",
    "def sleep_in(weekday, vacation):\n",
    "  if weekday== False or vacation == True:\n",
    "    return True\n",
    "  else:\n",
    "    return False"
   ]
  },
  {
   "cell_type": "code",
   "execution_count": null,
   "id": "4b202f3c",
   "metadata": {},
   "outputs": [],
   "source": [
    "\n",
    "# We have two monkeys, a and b, and the parameters a_smile and b_smile indicate if each is smiling. We are in trouble if they are both smiling or if neither of them is smiling. Return True if we are in trouble.\n",
    "\n",
    "# monkey_trouble(True, True) → True\n",
    "# monkey_trouble(False, False) → True\n",
    "# monkey_trouble(True, False) → False\n",
    "\n",
    "def monkey_trouble(a_smile, b_smile):\n",
    "  if a_smile== True and b_smile == False:\n",
    "    return False\n",
    "  elif a_smile== False and b_smile == True:\n",
    "    return False\n",
    "  else: \n",
    "    return True\n",
    "\n"
   ]
  },
  {
   "cell_type": "code",
   "execution_count": null,
   "id": "d1f0548a",
   "metadata": {},
   "outputs": [],
   "source": [
    "\n",
    "# Given two int values, return their sum. Unless the two values are the same, then return double their sum.\n",
    "\n",
    "\n",
    "# sum_double(1, 2) → 3\n",
    "# sum_double(3, 2) → 5\n",
    "# sum_double(2, 2) → 8\n",
    "\n",
    "def sum_double(a, b):\n",
    "  summ=2\n",
    "  if a==b:\n",
    "    return (a+b) * summ\n",
    "  else :\n",
    "    return a+b\n"
   ]
  },
  {
   "cell_type": "code",
   "execution_count": 1,
   "id": "5bccf400",
   "metadata": {},
   "outputs": [],
   "source": [
    "# Given an array of ints, return True if 6 appears as either the first or last element in the array. The array will be length 1 or more.\n",
    "\n",
    "\n",
    "# first_last6([1, 2, 6]) → True\n",
    "# first_last6([6, 1, 2, 3]) → True\n",
    "# first_last6([13, 6, 1, 2, 3]) → False\n",
    "\n",
    "def first_last6(nums):\n",
    "  if nums[0] == 6  or nums[-1] ==6:\n",
    "    return True\n",
    "  else:\n",
    "    return False\n",
    "\n"
   ]
  },
  {
   "cell_type": "code",
   "execution_count": null,
   "id": "bd816ecb",
   "metadata": {},
   "outputs": [],
   "source": [
    "\n",
    "# Given a string name, e.g. \"Bob\", return a greeting of the form \"Hello Bob!\".\n",
    "\n",
    "\n",
    "# hello_name('Bob') → 'Hello Bob!'\n",
    "# hello_name('Alice') → 'Hello Alice!'\n",
    "# hello_name('X') → 'Hello X!'\n",
    "def hello_name(name):\n",
    "  return (\"Hello \" + name +\"!\")"
   ]
  },
  {
   "cell_type": "code",
   "execution_count": null,
   "id": "2ad6a44c",
   "metadata": {},
   "outputs": [],
   "source": [
    "\n",
    "# Given two strings, a and b, return the result of putting them together in the order abba, e.g. \"Hi\" and \"Bye\" returns \"HiByeByeHi\".\n",
    "\n",
    "\n",
    "# make_abba('Hi', 'Bye') → 'HiByeByeHi'\n",
    "# make_abba('Yo', 'Alice') → 'YoAliceAliceYo'\n",
    "# make_abba('What', 'Up') → 'WhatUpUpWhat'\n",
    "def make_abba(a, b):\n",
    "  return (a+b+b+a)"
   ]
  },
  {
   "cell_type": "code",
   "execution_count": null,
   "id": "3347c9ed",
   "metadata": {},
   "outputs": [],
   "source": [
    "\n",
    "# The web is built with HTML strings like \"<i>Yay</i>\" which draws Yay as italic text. In this example, the \"i\" tag makes <i> and </i> which surround the word \"Yay\". Given tag and word strings, create the HTML string with tags around the word, e.g. \"<i>Yay</i>\".\n",
    "\n",
    "\n",
    "# make_tags('i', 'Yay') → '<i>Yay</i>'\n",
    "# make_tags('i', 'Hello') → '<i>Hello</i>'\n",
    "# make_tags('cite', 'Yay') → '<cite>Yay</cite>'\n",
    "def make_tags(tag, word):\n",
    "  return (\"<\"+tag+\">\" + word +\"</\"+tag+\">\")\n"
   ]
  },
  {
   "cell_type": "code",
   "execution_count": null,
   "id": "515b3de3",
   "metadata": {},
   "outputs": [],
   "source": [
    "\n",
    "# Given a string, return a string where for every char in the original, there are two chars.\n",
    "\n",
    "\n",
    "# double_char('The') → 'TThhee'\n",
    "# double_char('AAbb') → 'AAAAbbbb'\n",
    "# double_char('Hi-There') → 'HHii--TThheerree'\n",
    "def double_char(str):\n",
    "  stri=''\n",
    "  for i in str:\n",
    "    stri += i*2\n",
    "  return stri"
   ]
  },
  {
   "cell_type": "code",
   "execution_count": null,
   "id": "f44b3612",
   "metadata": {},
   "outputs": [],
   "source": [
    "\n",
    "# Return the number of even ints in the given array. Note: the % \"mod\" operator computes the remainder, e.g. 5 % 2 is 1.\n",
    "\n",
    "\n",
    "# count_evens([2, 1, 2, 3, 4]) → 3\n",
    "# count_evens([2, 2, 0]) → 3\n",
    "# count_evens([1, 3, 5]) → 0\n",
    "def count_evens(nums):\n",
    "  suma=0\n",
    "  for i in nums:\n",
    "    if i%2==0:\n",
    "      suma +=1\n",
    "  return suma\n"
   ]
  }
 ],
 "metadata": {
  "kernelspec": {
   "display_name": "Python 3.10.1 64-bit",
   "language": "python",
   "name": "python3"
  },
  "language_info": {
   "codemirror_mode": {
    "name": "ipython",
    "version": 3
   },
   "file_extension": ".py",
   "mimetype": "text/x-python",
   "name": "python",
   "nbconvert_exporter": "python",
   "pygments_lexer": "ipython3",
   "version": "3.10.1"
  },
  "vscode": {
   "interpreter": {
    "hash": "369f2c481f4da34e4445cda3fffd2e751bd1c4d706f27375911949ba6bb62e1c"
   }
  }
 },
 "nbformat": 4,
 "nbformat_minor": 5
}
