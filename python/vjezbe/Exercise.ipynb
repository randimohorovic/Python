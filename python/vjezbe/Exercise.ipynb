{
 "cells": [
  {
   "cell_type": "code",
   "execution_count": 2,
   "id": "e964334f",
   "metadata": {},
   "outputs": [],
   "source": [
    "\n",
    "# The parameter weekday is True if it is a weekday, and the parameter vacation is True if we are on vacation. We sleep in if it is not a weekday or we're on vacation. Return True if we sleep in.\n",
    "\n",
    "\n",
    "# sleep_in(False, False) → True\n",
    "# sleep_in(True, False) → False\n",
    "# sleep_in(False, True) → True\n",
    "\n",
    "def sleep_in(weekday, vacation):\n",
    "  if weekday== False or vacation == True:\n",
    "    return True\n",
    "  else:\n",
    "    return False"
   ]
  },
  {
   "cell_type": "code",
   "execution_count": null,
   "id": "4b202f3c",
   "metadata": {},
   "outputs": [],
   "source": [
    "\n",
    "# We have two monkeys, a and b, and the parameters a_smile and b_smile indicate if each is smiling. We are in trouble if they are both smiling or if neither of them is smiling. Return True if we are in trouble.\n",
    "\n",
    "# monkey_trouble(True, True) → True\n",
    "# monkey_trouble(False, False) → True\n",
    "# monkey_trouble(True, False) → False\n",
    "\n",
    "def monkey_trouble(a_smile, b_smile):\n",
    "  if a_smile== True and b_smile == False:\n",
    "    return False\n",
    "  elif a_smile== False and b_smile == True:\n",
    "    return False\n",
    "  else: \n",
    "    return True\n",
    "\n"
   ]
  },
  {
   "cell_type": "code",
   "execution_count": null,
   "id": "d1f0548a",
   "metadata": {},
   "outputs": [],
   "source": [
    "\n",
    "# Given two int values, return their sum. Unless the two values are the same, then return double their sum.\n",
    "\n",
    "\n",
    "# sum_double(1, 2) → 3\n",
    "# sum_double(3, 2) → 5\n",
    "# sum_double(2, 2) → 8\n",
    "\n",
    "def sum_double(a, b):\n",
    "  summ=2\n",
    "  if a==b:\n",
    "    return (a+b) * summ\n",
    "  else :\n",
    "    return a+b\n"
   ]
  },
  {
   "cell_type": "code",
   "execution_count": null,
   "id": "5bccf400",
   "metadata": {},
   "outputs": [],
   "source": [
    "# Given an array of ints, return True if 6 appears as either the first or last element in the array. The array will be length 1 or more.\n",
    "\n",
    "\n",
    "# first_last6([1, 2, 6]) → True\n",
    "# first_last6([6, 1, 2, 3]) → True\n",
    "# first_last6([13, 6, 1, 2, 3]) → False\n",
    "\n",
    "def first_last6(nums):\n",
    "  if nums[0] == 6  or nums[-1] ==6:\n",
    "    return True\n",
    "  else:\n",
    "    return False\n",
    "\n"
   ]
  },
  {
   "cell_type": "code",
   "execution_count": null,
   "id": "bd816ecb",
   "metadata": {},
   "outputs": [],
   "source": []
  },
  {
   "cell_type": "code",
   "execution_count": null,
   "id": "2ad6a44c",
   "metadata": {},
   "outputs": [],
   "source": []
  }
 ],
 "metadata": {
  "kernelspec": {
   "display_name": "Python 3",
   "language": "python",
   "name": "python3"
  },
  "language_info": {
   "codemirror_mode": {
    "name": "ipython",
    "version": 3
   },
   "file_extension": ".py",
   "mimetype": "text/x-python",
   "name": "python",
   "nbconvert_exporter": "python",
   "pygments_lexer": "ipython3",
   "version": "3.8.8"
  }
 },
 "nbformat": 4,
 "nbformat_minor": 5
}
