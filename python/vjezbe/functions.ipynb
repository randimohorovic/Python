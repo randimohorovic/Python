{
 "cells": [
  {
   "cell_type": "markdown",
   "metadata": {},
   "source": [
    "# Functions in python"
   ]
  },
  {
   "cell_type": "code",
   "execution_count": 6,
   "metadata": {},
   "outputs": [
    {
     "name": "stdout",
     "output_type": "stream",
     "text": [
      "out of function print\n",
      "funkcija\n"
     ]
    }
   ],
   "source": [
    "def function1():\n",
    "    print(\"funkcija\")\n",
    "print(\"out of function print\") #prints no matter if we call function\n",
    "\n",
    "function1()"
   ]
  },
  {
   "cell_type": "code",
   "execution_count": 7,
   "metadata": {},
   "outputs": [
    {
     "name": "stdout",
     "output_type": "stream",
     "text": [
      "funkcija\n"
     ]
    }
   ],
   "source": [
    "function1()"
   ]
  },
  {
   "cell_type": "code",
   "execution_count": 9,
   "metadata": {},
   "outputs": [
    {
     "name": "stdout",
     "output_type": "stream",
     "text": [
      "10\n"
     ]
    }
   ],
   "source": [
    "#mapping\n",
    "\n",
    "def function2(x):\n",
    "    return 2*x\n",
    "\n",
    "a =function2(5)\n",
    "print(a)"
   ]
  },
  {
   "cell_type": "code",
   "execution_count": 19,
   "metadata": {},
   "outputs": [],
   "source": [
    "#kBMI calculator\n",
    "name1=\"randi\"\n",
    "height_in_m1=1.8\n",
    "weight_kg1=65\n",
    "\n",
    "name2=\"boki\"\n",
    "height_in_m2=1.8\n",
    "weight_kg2=65\n",
    "\n",
    "name3=\"tea\"\n",
    "height_in_m3=1.8\n",
    "weight_kg3=65\n",
    "\n",
    "def bmi_calculator(name, height_m, weight_kg):\n",
    "    bmi = weight_kg / (height_in_m ** 2) \n",
    "\n",
    "    if bmi > 25:\n",
    "        return (\"You are overweight\")\n",
    "    elif bmi < 18.5:\n",
    "        return (\"You are underweight\")\n",
    "    else:\n",
    "        return(\"Just the spot\")\n",
    "    print(\"Your bmi:  \",bmi)\n",
    "\n",
    "   #pazi na poziciju pisanja"
   ]
  },
  {
   "cell_type": "code",
   "execution_count": 22,
   "metadata": {},
   "outputs": [
    {
     "name": "stdout",
     "output_type": "stream",
     "text": [
      "Just the spot\n",
      "Just the spot\n"
     ]
    }
   ],
   "source": [
    "rez1 = bmi_calculator(name1, height_in_m1, weight_kg1)\n",
    "rez2 = bmi_calculator(name2, height_in_m2, weight_kg2)\n",
    "\n",
    "print(rez1)\n",
    "print(rez2)"
   ]
  }
 ],
 "metadata": {
  "kernelspec": {
   "display_name": "Python 3.10.1 64-bit",
   "language": "python",
   "name": "python3"
  },
  "language_info": {
   "codemirror_mode": {
    "name": "ipython",
    "version": 3
   },
   "file_extension": ".py",
   "mimetype": "text/x-python",
   "name": "python",
   "nbconvert_exporter": "python",
   "pygments_lexer": "ipython3",
   "version": "3.10.1"
  },
  "orig_nbformat": 4,
  "vscode": {
   "interpreter": {
    "hash": "369f2c481f4da34e4445cda3fffd2e751bd1c4d706f27375911949ba6bb62e1c"
   }
  }
 },
 "nbformat": 4,
 "nbformat_minor": 2
}
