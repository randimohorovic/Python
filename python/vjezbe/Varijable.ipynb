{
 "cells": [
  {
   "cell_type": "code",
   "execution_count": 6,
   "id": "bf83ae9f",
   "metadata": {
    "scrolled": true
   },
   "outputs": [
    {
     "name": "stdout",
     "output_type": "stream",
     "text": [
      "Hello wrld\n"
     ]
    }
   ],
   "source": [
    "print(\"Hello wrld\")"
   ]
  },
  {
   "cell_type": "code",
   "execution_count": 7,
   "id": "487b3703",
   "metadata": {
    "scrolled": true
   },
   "outputs": [
    {
     "name": "stdout",
     "output_type": "stream",
     "text": [
      "string\n"
     ]
    }
   ],
   "source": [
    "print('string')"
   ]
  },
  {
   "cell_type": "code",
   "execution_count": null,
   "id": "e627a65e",
   "metadata": {},
   "outputs": [],
   "source": [
    "print('string')\n",
    "print(15240)\n"
   ]
  },
  {
   "cell_type": "code",
   "execution_count": 9,
   "id": "3fe42ae8",
   "metadata": {},
   "outputs": [
    {
     "name": "stdout",
     "output_type": "stream",
     "text": [
      "6\n"
     ]
    }
   ],
   "source": [
    "var = 1\n",
    "var2 =5\n",
    "\n",
    "var3 = var + var2\n",
    "print(var3)"
   ]
  },
  {
   "cell_type": "code",
   "execution_count": 10,
   "id": "a624f9f0",
   "metadata": {},
   "outputs": [
    {
     "name": "stdout",
     "output_type": "stream",
     "text": [
      "6\n"
     ]
    }
   ],
   "source": [
    "print(var3)"
   ]
  },
  {
   "cell_type": "code",
   "execution_count": 16,
   "id": "db846291",
   "metadata": {},
   "outputs": [
    {
     "name": "stdout",
     "output_type": "stream",
     "text": [
      "8\n"
     ]
    }
   ],
   "source": [
    "var=4\n",
    "var3 = var + var2 \n",
    "print(var3)\n"
   ]
  },
  {
   "cell_type": "code",
   "execution_count": null,
   "id": "ff42f138",
   "metadata": {},
   "outputs": [],
   "source": []
  },
  {
   "cell_type": "code",
   "execution_count": null,
   "id": "bb191865",
   "metadata": {},
   "outputs": [],
   "source": []
  }
 ],
 "metadata": {
  "kernelspec": {
   "display_name": "Python 3 (ipykernel)",
   "language": "python",
   "name": "python3"
  },
  "language_info": {
   "codemirror_mode": {
    "name": "ipython",
    "version": 3
   },
   "file_extension": ".py",
   "mimetype": "text/x-python",
   "name": "python",
   "nbconvert_exporter": "python",
   "pygments_lexer": "ipython3",
   "version": "3.9.13"
  }
 },
 "nbformat": 4,
 "nbformat_minor": 5
}
